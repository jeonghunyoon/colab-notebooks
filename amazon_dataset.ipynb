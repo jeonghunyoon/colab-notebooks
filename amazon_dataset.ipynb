{
  "nbformat": 4,
  "nbformat_minor": 0,
  "metadata": {
    "colab": {
      "name": "amazon_dataset.ipynb",
      "provenance": [],
      "collapsed_sections": [],
      "authorship_tag": "ABX9TyPTvaPDWljtVCE6W8qN/lYk",
      "include_colab_link": true
    },
    "kernelspec": {
      "name": "python3",
      "display_name": "Python 3"
    }
  },
  "cells": [
    {
      "cell_type": "markdown",
      "metadata": {
        "id": "view-in-github",
        "colab_type": "text"
      },
      "source": [
        "<a href=\"https://colab.research.google.com/github/jeonghunyoon/colab-notebooks/blob/main/amazon_dataset.ipynb\" target=\"_parent\"><img src=\"https://colab.research.google.com/assets/colab-badge.svg\" alt=\"Open In Colab\"/></a>"
      ]
    },
    {
      "cell_type": "markdown",
      "metadata": {
        "id": "0WpDWB5ZK-oF"
      },
      "source": [
        "- Papers\n",
        "  - An Efficient Neighborhood-based Interaction Model for Recommendation on Heterogeneous Graph\n",
        "- Repository\n",
        "  - https://nijianmo.github.io/amazon/index.html\n",
        "  - https://www.kaggle.com/snap/amazon-fine-food-reviews\n"
      ]
    },
    {
      "cell_type": "markdown",
      "metadata": {
        "id": "FSEivQ7VLm5_"
      },
      "source": [
        ""
      ]
    },
    {
      "cell_type": "code",
      "metadata": {
        "id": "ne_JdY4OA4hT"
      },
      "source": [
        "import os\n",
        "import json\n",
        "import gzip\n",
        "import pandas as pd\n",
        "from urllib.request import urlopen"
      ],
      "execution_count": null,
      "outputs": []
    },
    {
      "cell_type": "code",
      "metadata": {
        "colab": {
          "base_uri": "https://localhost:8080/"
        },
        "id": "z_bU9S3QFtVH",
        "outputId": "d4e5f153-77f6-4606-e8fe-e93c2a173e1b"
      },
      "source": [
        "!wget http://deepyeti.ucsd.edu/jianmo/amazon/categoryFilesSmall/AMAZON_FASHION_5.json.gz"
      ],
      "execution_count": null,
      "outputs": [
        {
          "output_type": "stream",
          "text": [
            "--2021-03-05 06:37:11--  http://deepyeti.ucsd.edu/jianmo/amazon/categoryFilesSmall/AMAZON_FASHION_5.json.gz\n",
            "Resolving deepyeti.ucsd.edu (deepyeti.ucsd.edu)... 169.228.63.50\n",
            "Connecting to deepyeti.ucsd.edu (deepyeti.ucsd.edu)|169.228.63.50|:80... connected.\n",
            "HTTP request sent, awaiting response... 200 OK\n",
            "Length: 287013 (280K) [application/octet-stream]\n",
            "Saving to: ‘AMAZON_FASHION_5.json.gz’\n",
            "\n",
            "AMAZON_FASHION_5.js 100%[===================>] 280.29K   465KB/s    in 0.6s    \n",
            "\n",
            "2021-03-05 06:37:12 (465 KB/s) - ‘AMAZON_FASHION_5.json.gz’ saved [287013/287013]\n",
            "\n"
          ],
          "name": "stdout"
        }
      ]
    },
    {
      "cell_type": "code",
      "metadata": {
        "colab": {
          "base_uri": "https://localhost:8080/"
        },
        "id": "M6WTBl-CGPkF",
        "outputId": "e26557cb-a0a2-4b16-badd-3be0ba8f815f"
      },
      "source": [
        "os.listdir('.')"
      ],
      "execution_count": null,
      "outputs": [
        {
          "output_type": "execute_result",
          "data": {
            "text/plain": [
              "['.config',\n",
              " 'meta_Computers.json.gz',\n",
              " 'A8hBfPxKkKGFCP238',\n",
              " 'AMAZON_FASHION_5.json.gz',\n",
              " 'sample_data']"
            ]
          },
          "metadata": {
            "tags": []
          },
          "execution_count": 8
        }
      ]
    },
    {
      "cell_type": "code",
      "metadata": {
        "id": "ag78_XzbGBg0"
      },
      "source": [
        "data = []\n",
        "with gzip.open('AMAZON_FASHION_5.json.gz') as f:\n",
        "    for l in f:\n",
        "        data.append(json.loads(l.strip()))"
      ],
      "execution_count": null,
      "outputs": []
    },
    {
      "cell_type": "code",
      "metadata": {
        "colab": {
          "base_uri": "https://localhost:8080/"
        },
        "id": "U251-EqlG8D3",
        "outputId": "16837a8f-c9bf-4cd7-feef-992889ab63ce"
      },
      "source": [
        "print(len(data))\n",
        "print(data[0])"
      ],
      "execution_count": null,
      "outputs": [
        {
          "output_type": "stream",
          "text": [
            "3176\n",
            "{'overall': 5.0, 'verified': True, 'reviewTime': '09 4, 2015', 'reviewerID': 'ALJ66O1Y6SLHA', 'asin': 'B000K2PJ4K', 'style': {'Size:': ' Big Boys', 'Color:': ' Blue/Orange'}, 'reviewerName': 'Tonya B.', 'reviewText': 'Great product and price!', 'summary': 'Five Stars', 'unixReviewTime': 1441324800}\n"
          ],
          "name": "stdout"
        }
      ]
    },
    {
      "cell_type": "code",
      "metadata": {
        "id": "C7j62bP7HAGm"
      },
      "source": [
        "# From https://nijianmo.github.io/amazon/index.html\n",
        "\n",
        "def parse(path):\n",
        "    g = gzip.open(path, 'rb')\n",
        "    for l in g:\n",
        "        yield json.loads(l)\n",
        "\n",
        "def getDF(path):\n",
        "    i = 0\n",
        "    df = {}\n",
        "    for d in parse(path):\n",
        "        df[i] = d\n",
        "        i += 1\n",
        "    return pd.DataFrame.from_dict(df, orient='index')\n",
        "\n",
        "df = getDF('AMAZON_FASHION_5.json.gz')"
      ],
      "execution_count": null,
      "outputs": []
    },
    {
      "cell_type": "code",
      "metadata": {
        "colab": {
          "base_uri": "https://localhost:8080/",
          "height": 482
        },
        "id": "71zQ1TlVJMBo",
        "outputId": "49256bef-4e43-4f2c-f2bd-05379c65e919"
      },
      "source": [
        "df.head()"
      ],
      "execution_count": null,
      "outputs": [
        {
          "output_type": "execute_result",
          "data": {
            "text/html": [
              "<div>\n",
              "<style scoped>\n",
              "    .dataframe tbody tr th:only-of-type {\n",
              "        vertical-align: middle;\n",
              "    }\n",
              "\n",
              "    .dataframe tbody tr th {\n",
              "        vertical-align: top;\n",
              "    }\n",
              "\n",
              "    .dataframe thead th {\n",
              "        text-align: right;\n",
              "    }\n",
              "</style>\n",
              "<table border=\"1\" class=\"dataframe\">\n",
              "  <thead>\n",
              "    <tr style=\"text-align: right;\">\n",
              "      <th></th>\n",
              "      <th>overall</th>\n",
              "      <th>verified</th>\n",
              "      <th>reviewTime</th>\n",
              "      <th>reviewerID</th>\n",
              "      <th>asin</th>\n",
              "      <th>style</th>\n",
              "      <th>reviewerName</th>\n",
              "      <th>reviewText</th>\n",
              "      <th>summary</th>\n",
              "      <th>unixReviewTime</th>\n",
              "      <th>vote</th>\n",
              "      <th>image</th>\n",
              "    </tr>\n",
              "  </thead>\n",
              "  <tbody>\n",
              "    <tr>\n",
              "      <th>0</th>\n",
              "      <td>5.0</td>\n",
              "      <td>True</td>\n",
              "      <td>09 4, 2015</td>\n",
              "      <td>ALJ66O1Y6SLHA</td>\n",
              "      <td>B000K2PJ4K</td>\n",
              "      <td>{'Size:': ' Big Boys', 'Color:': ' Blue/Orange'}</td>\n",
              "      <td>Tonya B.</td>\n",
              "      <td>Great product and price!</td>\n",
              "      <td>Five Stars</td>\n",
              "      <td>1441324800</td>\n",
              "      <td>NaN</td>\n",
              "      <td>NaN</td>\n",
              "    </tr>\n",
              "    <tr>\n",
              "      <th>1</th>\n",
              "      <td>5.0</td>\n",
              "      <td>True</td>\n",
              "      <td>09 4, 2015</td>\n",
              "      <td>ALJ66O1Y6SLHA</td>\n",
              "      <td>B000K2PJ4K</td>\n",
              "      <td>{'Size:': ' Big Boys', 'Color:': ' Black (3746...</td>\n",
              "      <td>Tonya B.</td>\n",
              "      <td>Great product and price!</td>\n",
              "      <td>Five Stars</td>\n",
              "      <td>1441324800</td>\n",
              "      <td>NaN</td>\n",
              "      <td>NaN</td>\n",
              "    </tr>\n",
              "    <tr>\n",
              "      <th>2</th>\n",
              "      <td>5.0</td>\n",
              "      <td>True</td>\n",
              "      <td>09 4, 2015</td>\n",
              "      <td>ALJ66O1Y6SLHA</td>\n",
              "      <td>B000K2PJ4K</td>\n",
              "      <td>{'Size:': ' Big Boys', 'Color:': ' Blue/Gray L...</td>\n",
              "      <td>Tonya B.</td>\n",
              "      <td>Great product and price!</td>\n",
              "      <td>Five Stars</td>\n",
              "      <td>1441324800</td>\n",
              "      <td>NaN</td>\n",
              "      <td>NaN</td>\n",
              "    </tr>\n",
              "    <tr>\n",
              "      <th>3</th>\n",
              "      <td>5.0</td>\n",
              "      <td>True</td>\n",
              "      <td>09 4, 2015</td>\n",
              "      <td>ALJ66O1Y6SLHA</td>\n",
              "      <td>B000K2PJ4K</td>\n",
              "      <td>{'Size:': ' Big Boys', 'Color:': ' Blue (37867...</td>\n",
              "      <td>Tonya B.</td>\n",
              "      <td>Great product and price!</td>\n",
              "      <td>Five Stars</td>\n",
              "      <td>1441324800</td>\n",
              "      <td>NaN</td>\n",
              "      <td>NaN</td>\n",
              "    </tr>\n",
              "    <tr>\n",
              "      <th>4</th>\n",
              "      <td>5.0</td>\n",
              "      <td>True</td>\n",
              "      <td>09 4, 2015</td>\n",
              "      <td>ALJ66O1Y6SLHA</td>\n",
              "      <td>B000K2PJ4K</td>\n",
              "      <td>{'Size:': ' Big Boys', 'Color:': ' Blue/Pink'}</td>\n",
              "      <td>Tonya B.</td>\n",
              "      <td>Great product and price!</td>\n",
              "      <td>Five Stars</td>\n",
              "      <td>1441324800</td>\n",
              "      <td>NaN</td>\n",
              "      <td>NaN</td>\n",
              "    </tr>\n",
              "  </tbody>\n",
              "</table>\n",
              "</div>"
            ],
            "text/plain": [
              "   overall  verified  reviewTime  ... unixReviewTime vote image\n",
              "0      5.0      True  09 4, 2015  ...     1441324800  NaN   NaN\n",
              "1      5.0      True  09 4, 2015  ...     1441324800  NaN   NaN\n",
              "2      5.0      True  09 4, 2015  ...     1441324800  NaN   NaN\n",
              "3      5.0      True  09 4, 2015  ...     1441324800  NaN   NaN\n",
              "4      5.0      True  09 4, 2015  ...     1441324800  NaN   NaN\n",
              "\n",
              "[5 rows x 12 columns]"
            ]
          },
          "metadata": {
            "tags": []
          },
          "execution_count": 16
        }
      ]
    },
    {
      "cell_type": "code",
      "metadata": {
        "colab": {
          "base_uri": "https://localhost:8080/",
          "height": 202
        },
        "id": "BSMYxrtMJPFm",
        "outputId": "1329b0a2-a3d0-4ba1-ceac-7855ccd6e0dc"
      },
      "source": [
        "df[['overall', 'reviewerID', 'asin']].head()"
      ],
      "execution_count": null,
      "outputs": [
        {
          "output_type": "execute_result",
          "data": {
            "text/html": [
              "<div>\n",
              "<style scoped>\n",
              "    .dataframe tbody tr th:only-of-type {\n",
              "        vertical-align: middle;\n",
              "    }\n",
              "\n",
              "    .dataframe tbody tr th {\n",
              "        vertical-align: top;\n",
              "    }\n",
              "\n",
              "    .dataframe thead th {\n",
              "        text-align: right;\n",
              "    }\n",
              "</style>\n",
              "<table border=\"1\" class=\"dataframe\">\n",
              "  <thead>\n",
              "    <tr style=\"text-align: right;\">\n",
              "      <th></th>\n",
              "      <th>overall</th>\n",
              "      <th>reviewerID</th>\n",
              "      <th>asin</th>\n",
              "    </tr>\n",
              "  </thead>\n",
              "  <tbody>\n",
              "    <tr>\n",
              "      <th>0</th>\n",
              "      <td>5.0</td>\n",
              "      <td>ALJ66O1Y6SLHA</td>\n",
              "      <td>B000K2PJ4K</td>\n",
              "    </tr>\n",
              "    <tr>\n",
              "      <th>1</th>\n",
              "      <td>5.0</td>\n",
              "      <td>ALJ66O1Y6SLHA</td>\n",
              "      <td>B000K2PJ4K</td>\n",
              "    </tr>\n",
              "    <tr>\n",
              "      <th>2</th>\n",
              "      <td>5.0</td>\n",
              "      <td>ALJ66O1Y6SLHA</td>\n",
              "      <td>B000K2PJ4K</td>\n",
              "    </tr>\n",
              "    <tr>\n",
              "      <th>3</th>\n",
              "      <td>5.0</td>\n",
              "      <td>ALJ66O1Y6SLHA</td>\n",
              "      <td>B000K2PJ4K</td>\n",
              "    </tr>\n",
              "    <tr>\n",
              "      <th>4</th>\n",
              "      <td>5.0</td>\n",
              "      <td>ALJ66O1Y6SLHA</td>\n",
              "      <td>B000K2PJ4K</td>\n",
              "    </tr>\n",
              "  </tbody>\n",
              "</table>\n",
              "</div>"
            ],
            "text/plain": [
              "   overall     reviewerID        asin\n",
              "0      5.0  ALJ66O1Y6SLHA  B000K2PJ4K\n",
              "1      5.0  ALJ66O1Y6SLHA  B000K2PJ4K\n",
              "2      5.0  ALJ66O1Y6SLHA  B000K2PJ4K\n",
              "3      5.0  ALJ66O1Y6SLHA  B000K2PJ4K\n",
              "4      5.0  ALJ66O1Y6SLHA  B000K2PJ4K"
            ]
          },
          "metadata": {
            "tags": []
          },
          "execution_count": 26
        }
      ]
    },
    {
      "cell_type": "code",
      "metadata": {
        "colab": {
          "base_uri": "https://localhost:8080/"
        },
        "id": "i8MduK6IJsTg",
        "outputId": "4d3c2aad-efca-4c57-82d4-19d8ef64d96f"
      },
      "source": [
        "!wget http://deepyeti.ucsd.edu/jianmo/amazon/categoryFilesSmall/AMAZON_FASHION.csv"
      ],
      "execution_count": null,
      "outputs": [
        {
          "output_type": "stream",
          "text": [
            "--2021-03-05 06:52:05--  http://deepyeti.ucsd.edu/jianmo/amazon/categoryFilesSmall/AMAZON_FASHION.csv\n",
            "Resolving deepyeti.ucsd.edu (deepyeti.ucsd.edu)... 169.228.63.50\n",
            "Connecting to deepyeti.ucsd.edu (deepyeti.ucsd.edu)|169.228.63.50|:80... connected.\n",
            "HTTP request sent, awaiting response... 200 OK\n",
            "Length: 36881609 (35M) [application/octet-stream]\n",
            "Saving to: ‘AMAZON_FASHION.csv’\n",
            "\n",
            "AMAZON_FASHION.csv  100%[===================>]  35.17M  12.2MB/s    in 2.9s    \n",
            "\n",
            "2021-03-05 06:52:08 (12.2 MB/s) - ‘AMAZON_FASHION.csv’ saved [36881609/36881609]\n",
            "\n"
          ],
          "name": "stdout"
        }
      ]
    },
    {
      "cell_type": "code",
      "metadata": {
        "colab": {
          "base_uri": "https://localhost:8080/"
        },
        "id": "9e88PA7tKFu1",
        "outputId": "5b36faee-cb81-4441-9468-204ca2e830d2"
      },
      "source": [
        "os.listdir('.')"
      ],
      "execution_count": null,
      "outputs": [
        {
          "output_type": "execute_result",
          "data": {
            "text/plain": [
              "['.config',\n",
              " 'AMAZON_FASHION.csv',\n",
              " 'meta_Computers.json.gz',\n",
              " 'A8hBfPxKkKGFCP238',\n",
              " 'AMAZON_FASHION_5.json.gz',\n",
              " 'sample_data']"
            ]
          },
          "metadata": {
            "tags": []
          },
          "execution_count": 21
        }
      ]
    },
    {
      "cell_type": "code",
      "metadata": {
        "id": "VfEE7_6XKJJD"
      },
      "source": [
        "df2 = pd.read_csv('AMAZON_FASHION.csv', header=None)\n",
        "df2.columns = ['item', 'user', 'rating', 'timestamp']"
      ],
      "execution_count": null,
      "outputs": []
    },
    {
      "cell_type": "code",
      "metadata": {
        "colab": {
          "base_uri": "https://localhost:8080/",
          "height": 202
        },
        "id": "R8IMqwnfKSgK",
        "outputId": "ae6d60ac-7503-4686-f1d6-08a343244fd9"
      },
      "source": [
        "df2.head()"
      ],
      "execution_count": null,
      "outputs": [
        {
          "output_type": "execute_result",
          "data": {
            "text/html": [
              "<div>\n",
              "<style scoped>\n",
              "    .dataframe tbody tr th:only-of-type {\n",
              "        vertical-align: middle;\n",
              "    }\n",
              "\n",
              "    .dataframe tbody tr th {\n",
              "        vertical-align: top;\n",
              "    }\n",
              "\n",
              "    .dataframe thead th {\n",
              "        text-align: right;\n",
              "    }\n",
              "</style>\n",
              "<table border=\"1\" class=\"dataframe\">\n",
              "  <thead>\n",
              "    <tr style=\"text-align: right;\">\n",
              "      <th></th>\n",
              "      <th>item</th>\n",
              "      <th>user</th>\n",
              "      <th>rating</th>\n",
              "      <th>timestamp</th>\n",
              "    </tr>\n",
              "  </thead>\n",
              "  <tbody>\n",
              "    <tr>\n",
              "      <th>0</th>\n",
              "      <td>7106116521</td>\n",
              "      <td>A1D4G1SNUZWQOT</td>\n",
              "      <td>5.0</td>\n",
              "      <td>1413763200</td>\n",
              "    </tr>\n",
              "    <tr>\n",
              "      <th>1</th>\n",
              "      <td>7106116521</td>\n",
              "      <td>A3DDWDH9PX2YX2</td>\n",
              "      <td>2.0</td>\n",
              "      <td>1411862400</td>\n",
              "    </tr>\n",
              "    <tr>\n",
              "      <th>2</th>\n",
              "      <td>7106116521</td>\n",
              "      <td>A2MWC41EW7XL15</td>\n",
              "      <td>4.0</td>\n",
              "      <td>1408924800</td>\n",
              "    </tr>\n",
              "    <tr>\n",
              "      <th>3</th>\n",
              "      <td>7106116521</td>\n",
              "      <td>A2UH2QQ275NV45</td>\n",
              "      <td>2.0</td>\n",
              "      <td>1408838400</td>\n",
              "    </tr>\n",
              "    <tr>\n",
              "      <th>4</th>\n",
              "      <td>7106116521</td>\n",
              "      <td>A89F3LQADZBS5</td>\n",
              "      <td>3.0</td>\n",
              "      <td>1406419200</td>\n",
              "    </tr>\n",
              "  </tbody>\n",
              "</table>\n",
              "</div>"
            ],
            "text/plain": [
              "         item            user  rating   timestamp\n",
              "0  7106116521  A1D4G1SNUZWQOT     5.0  1413763200\n",
              "1  7106116521  A3DDWDH9PX2YX2     2.0  1411862400\n",
              "2  7106116521  A2MWC41EW7XL15     4.0  1408924800\n",
              "3  7106116521  A2UH2QQ275NV45     2.0  1408838400\n",
              "4  7106116521   A89F3LQADZBS5     3.0  1406419200"
            ]
          },
          "metadata": {
            "tags": []
          },
          "execution_count": 28
        }
      ]
    },
    {
      "cell_type": "code",
      "metadata": {
        "id": "Zik43gMeKTlS"
      },
      "source": [
        ""
      ],
      "execution_count": null,
      "outputs": []
    }
  ]
}